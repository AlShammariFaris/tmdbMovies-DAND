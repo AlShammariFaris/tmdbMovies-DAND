{
 "cells": [
  {
   "cell_type": "markdown",
   "metadata": {},
   "source": [
    "# Project: TMDB-MOVIES\n",
    "## Prepared By: Faris AlShammari\n",
    "\n",
    "\n",
    "## Table of Contents\n",
    "<ul>\n",
    "<li><a href=\"#intro\">Introduction</a></li>\n",
    "<li><a href=\"#wrangling\">Data Wrangling</a></li>\n",
    "<li><a href=\"#eda\">Exploratory Data Analysis</a></li>\n",
    "<li><a href=\"#conclusions\">Conclusions</a></li>\n",
    "</ul>"
   ]
  },
  {
   "cell_type": "markdown",
   "metadata": {},
   "source": [
    "<a id='intro'></a>\n",
    "## Introduction"
   ]
  },
  {
   "cell_type": "markdown",
   "metadata": {},
   "source": [
    "## Questions is:\n",
    "\n",
    "#### 1- What is the Average Rate and revenue\n",
    "#### 2- Highest Rating Movie.\n",
    "#### 3- Lowest Rating Movie.\n",
    "#### 4- Highest Revenue Movie.\n",
    "#### 5- Lowest Revenue Movie.\n",
    "#### 6- how many movies above and below the average rating\n",
    "#### 7- Who is the better director (Tarantino, Nolan or Scorsese) ?\n",
    "#### 8- Comparing Ratings, Revenues and Popularity. by some geners\n"
   ]
  },
  {
   "cell_type": "code",
   "execution_count": 1,
   "metadata": {},
   "outputs": [],
   "source": [
    "import pandas as pd\n",
    "import numpy as np\n",
    "import matplotlib.pyplot as plt\n",
    "from mpl_toolkits.axisartist.axislines import SubplotZero\n",
    "%matplotlib inline"
   ]
  },
  {
   "cell_type": "markdown",
   "metadata": {},
   "source": [
    "<a id='wrangling'></a>\n",
    "## Data Wrangling\n",
    "\n",
    "\n",
    "\n",
    "### General Properties"
   ]
  },
  {
   "cell_type": "code",
   "execution_count": 2,
   "metadata": {},
   "outputs": [
    {
     "data": {
      "text/html": [
       "<div>\n",
       "<style scoped>\n",
       "    .dataframe tbody tr th:only-of-type {\n",
       "        vertical-align: middle;\n",
       "    }\n",
       "\n",
       "    .dataframe tbody tr th {\n",
       "        vertical-align: top;\n",
       "    }\n",
       "\n",
       "    .dataframe thead th {\n",
       "        text-align: right;\n",
       "    }\n",
       "</style>\n",
       "<table border=\"1\" class=\"dataframe\">\n",
       "  <thead>\n",
       "    <tr style=\"text-align: right;\">\n",
       "      <th></th>\n",
       "      <th>id</th>\n",
       "      <th>imdb_id</th>\n",
       "      <th>popularity</th>\n",
       "      <th>budget</th>\n",
       "      <th>revenue</th>\n",
       "      <th>original_title</th>\n",
       "      <th>cast</th>\n",
       "      <th>homepage</th>\n",
       "      <th>director</th>\n",
       "      <th>tagline</th>\n",
       "      <th>...</th>\n",
       "      <th>overview</th>\n",
       "      <th>runtime</th>\n",
       "      <th>genres</th>\n",
       "      <th>production_companies</th>\n",
       "      <th>release_date</th>\n",
       "      <th>vote_count</th>\n",
       "      <th>vote_average</th>\n",
       "      <th>release_year</th>\n",
       "      <th>budget_adj</th>\n",
       "      <th>revenue_adj</th>\n",
       "    </tr>\n",
       "  </thead>\n",
       "  <tbody>\n",
       "    <tr>\n",
       "      <th>0</th>\n",
       "      <td>135397</td>\n",
       "      <td>tt0369610</td>\n",
       "      <td>32.985763</td>\n",
       "      <td>150000000</td>\n",
       "      <td>1513528810</td>\n",
       "      <td>Jurassic World</td>\n",
       "      <td>Chris Pratt|Bryce Dallas Howard|Irrfan Khan|Vi...</td>\n",
       "      <td>http://www.jurassicworld.com/</td>\n",
       "      <td>Colin Trevorrow</td>\n",
       "      <td>The park is open.</td>\n",
       "      <td>...</td>\n",
       "      <td>Twenty-two years after the events of Jurassic ...</td>\n",
       "      <td>124</td>\n",
       "      <td>Action|Adventure|Science Fiction|Thriller</td>\n",
       "      <td>Universal Studios|Amblin Entertainment|Legenda...</td>\n",
       "      <td>6/9/15</td>\n",
       "      <td>5562</td>\n",
       "      <td>6.5</td>\n",
       "      <td>2015</td>\n",
       "      <td>1.379999e+08</td>\n",
       "      <td>1.392446e+09</td>\n",
       "    </tr>\n",
       "    <tr>\n",
       "      <th>1</th>\n",
       "      <td>76341</td>\n",
       "      <td>tt1392190</td>\n",
       "      <td>28.419936</td>\n",
       "      <td>150000000</td>\n",
       "      <td>378436354</td>\n",
       "      <td>Mad Max: Fury Road</td>\n",
       "      <td>Tom Hardy|Charlize Theron|Hugh Keays-Byrne|Nic...</td>\n",
       "      <td>http://www.madmaxmovie.com/</td>\n",
       "      <td>George Miller</td>\n",
       "      <td>What a Lovely Day.</td>\n",
       "      <td>...</td>\n",
       "      <td>An apocalyptic story set in the furthest reach...</td>\n",
       "      <td>120</td>\n",
       "      <td>Action|Adventure|Science Fiction|Thriller</td>\n",
       "      <td>Village Roadshow Pictures|Kennedy Miller Produ...</td>\n",
       "      <td>5/13/15</td>\n",
       "      <td>6185</td>\n",
       "      <td>7.1</td>\n",
       "      <td>2015</td>\n",
       "      <td>1.379999e+08</td>\n",
       "      <td>3.481613e+08</td>\n",
       "    </tr>\n",
       "    <tr>\n",
       "      <th>2</th>\n",
       "      <td>262500</td>\n",
       "      <td>tt2908446</td>\n",
       "      <td>13.112507</td>\n",
       "      <td>110000000</td>\n",
       "      <td>295238201</td>\n",
       "      <td>Insurgent</td>\n",
       "      <td>Shailene Woodley|Theo James|Kate Winslet|Ansel...</td>\n",
       "      <td>http://www.thedivergentseries.movie/#insurgent</td>\n",
       "      <td>Robert Schwentke</td>\n",
       "      <td>One Choice Can Destroy You</td>\n",
       "      <td>...</td>\n",
       "      <td>Beatrice Prior must confront her inner demons ...</td>\n",
       "      <td>119</td>\n",
       "      <td>Adventure|Science Fiction|Thriller</td>\n",
       "      <td>Summit Entertainment|Mandeville Films|Red Wago...</td>\n",
       "      <td>3/18/15</td>\n",
       "      <td>2480</td>\n",
       "      <td>6.3</td>\n",
       "      <td>2015</td>\n",
       "      <td>1.012000e+08</td>\n",
       "      <td>2.716190e+08</td>\n",
       "    </tr>\n",
       "    <tr>\n",
       "      <th>3</th>\n",
       "      <td>140607</td>\n",
       "      <td>tt2488496</td>\n",
       "      <td>11.173104</td>\n",
       "      <td>200000000</td>\n",
       "      <td>2068178225</td>\n",
       "      <td>Star Wars: The Force Awakens</td>\n",
       "      <td>Harrison Ford|Mark Hamill|Carrie Fisher|Adam D...</td>\n",
       "      <td>http://www.starwars.com/films/star-wars-episod...</td>\n",
       "      <td>J.J. Abrams</td>\n",
       "      <td>Every generation has a story.</td>\n",
       "      <td>...</td>\n",
       "      <td>Thirty years after defeating the Galactic Empi...</td>\n",
       "      <td>136</td>\n",
       "      <td>Action|Adventure|Science Fiction|Fantasy</td>\n",
       "      <td>Lucasfilm|Truenorth Productions|Bad Robot</td>\n",
       "      <td>12/15/15</td>\n",
       "      <td>5292</td>\n",
       "      <td>7.5</td>\n",
       "      <td>2015</td>\n",
       "      <td>1.839999e+08</td>\n",
       "      <td>1.902723e+09</td>\n",
       "    </tr>\n",
       "  </tbody>\n",
       "</table>\n",
       "<p>4 rows × 21 columns</p>\n",
       "</div>"
      ],
      "text/plain": [
       "       id    imdb_id  popularity     budget     revenue  \\\n",
       "0  135397  tt0369610   32.985763  150000000  1513528810   \n",
       "1   76341  tt1392190   28.419936  150000000   378436354   \n",
       "2  262500  tt2908446   13.112507  110000000   295238201   \n",
       "3  140607  tt2488496   11.173104  200000000  2068178225   \n",
       "\n",
       "                 original_title  \\\n",
       "0                Jurassic World   \n",
       "1            Mad Max: Fury Road   \n",
       "2                     Insurgent   \n",
       "3  Star Wars: The Force Awakens   \n",
       "\n",
       "                                                cast  \\\n",
       "0  Chris Pratt|Bryce Dallas Howard|Irrfan Khan|Vi...   \n",
       "1  Tom Hardy|Charlize Theron|Hugh Keays-Byrne|Nic...   \n",
       "2  Shailene Woodley|Theo James|Kate Winslet|Ansel...   \n",
       "3  Harrison Ford|Mark Hamill|Carrie Fisher|Adam D...   \n",
       "\n",
       "                                            homepage          director  \\\n",
       "0                      http://www.jurassicworld.com/   Colin Trevorrow   \n",
       "1                        http://www.madmaxmovie.com/     George Miller   \n",
       "2     http://www.thedivergentseries.movie/#insurgent  Robert Schwentke   \n",
       "3  http://www.starwars.com/films/star-wars-episod...       J.J. Abrams   \n",
       "\n",
       "                         tagline  ...  \\\n",
       "0              The park is open.  ...   \n",
       "1             What a Lovely Day.  ...   \n",
       "2     One Choice Can Destroy You  ...   \n",
       "3  Every generation has a story.  ...   \n",
       "\n",
       "                                            overview runtime  \\\n",
       "0  Twenty-two years after the events of Jurassic ...     124   \n",
       "1  An apocalyptic story set in the furthest reach...     120   \n",
       "2  Beatrice Prior must confront her inner demons ...     119   \n",
       "3  Thirty years after defeating the Galactic Empi...     136   \n",
       "\n",
       "                                      genres  \\\n",
       "0  Action|Adventure|Science Fiction|Thriller   \n",
       "1  Action|Adventure|Science Fiction|Thriller   \n",
       "2         Adventure|Science Fiction|Thriller   \n",
       "3   Action|Adventure|Science Fiction|Fantasy   \n",
       "\n",
       "                                production_companies release_date vote_count  \\\n",
       "0  Universal Studios|Amblin Entertainment|Legenda...       6/9/15       5562   \n",
       "1  Village Roadshow Pictures|Kennedy Miller Produ...      5/13/15       6185   \n",
       "2  Summit Entertainment|Mandeville Films|Red Wago...      3/18/15       2480   \n",
       "3          Lucasfilm|Truenorth Productions|Bad Robot     12/15/15       5292   \n",
       "\n",
       "   vote_average  release_year    budget_adj   revenue_adj  \n",
       "0           6.5          2015  1.379999e+08  1.392446e+09  \n",
       "1           7.1          2015  1.379999e+08  3.481613e+08  \n",
       "2           6.3          2015  1.012000e+08  2.716190e+08  \n",
       "3           7.5          2015  1.839999e+08  1.902723e+09  \n",
       "\n",
       "[4 rows x 21 columns]"
      ]
     },
     "execution_count": 2,
     "metadata": {},
     "output_type": "execute_result"
    }
   ],
   "source": [
    "df_Movies = pd.read_csv('tmdb-movies.csv')\n",
    "df_Movies.head(4)"
   ]
  },
  {
   "cell_type": "code",
   "execution_count": 3,
   "metadata": {},
   "outputs": [
    {
     "data": {
      "text/html": [
       "<div>\n",
       "<style scoped>\n",
       "    .dataframe tbody tr th:only-of-type {\n",
       "        vertical-align: middle;\n",
       "    }\n",
       "\n",
       "    .dataframe tbody tr th {\n",
       "        vertical-align: top;\n",
       "    }\n",
       "\n",
       "    .dataframe thead th {\n",
       "        text-align: right;\n",
       "    }\n",
       "</style>\n",
       "<table border=\"1\" class=\"dataframe\">\n",
       "  <thead>\n",
       "    <tr style=\"text-align: right;\">\n",
       "      <th></th>\n",
       "      <th>id</th>\n",
       "      <th>imdb_id</th>\n",
       "      <th>popularity</th>\n",
       "      <th>budget</th>\n",
       "      <th>revenue</th>\n",
       "      <th>original_title</th>\n",
       "      <th>cast</th>\n",
       "      <th>homepage</th>\n",
       "      <th>director</th>\n",
       "      <th>tagline</th>\n",
       "      <th>...</th>\n",
       "      <th>overview</th>\n",
       "      <th>runtime</th>\n",
       "      <th>genres</th>\n",
       "      <th>production_companies</th>\n",
       "      <th>release_date</th>\n",
       "      <th>vote_count</th>\n",
       "      <th>vote_average</th>\n",
       "      <th>release_year</th>\n",
       "      <th>budget_adj</th>\n",
       "      <th>revenue_adj</th>\n",
       "    </tr>\n",
       "  </thead>\n",
       "  <tbody>\n",
       "    <tr>\n",
       "      <th>10862</th>\n",
       "      <td>20379</td>\n",
       "      <td>tt0060472</td>\n",
       "      <td>0.065543</td>\n",
       "      <td>0</td>\n",
       "      <td>0</td>\n",
       "      <td>Grand Prix</td>\n",
       "      <td>James Garner|Eva Marie Saint|Yves Montand|Tosh...</td>\n",
       "      <td>NaN</td>\n",
       "      <td>John Frankenheimer</td>\n",
       "      <td>Cinerama sweeps YOU into a drama of speed and ...</td>\n",
       "      <td>...</td>\n",
       "      <td>Grand Prix driver Pete Aron is fired by his te...</td>\n",
       "      <td>176</td>\n",
       "      <td>Action|Adventure|Drama</td>\n",
       "      <td>Cherokee Productions|Joel Productions|Douglas ...</td>\n",
       "      <td>12/21/66</td>\n",
       "      <td>20</td>\n",
       "      <td>5.7</td>\n",
       "      <td>1966</td>\n",
       "      <td>0.000000</td>\n",
       "      <td>0.0</td>\n",
       "    </tr>\n",
       "    <tr>\n",
       "      <th>10863</th>\n",
       "      <td>39768</td>\n",
       "      <td>tt0060161</td>\n",
       "      <td>0.065141</td>\n",
       "      <td>0</td>\n",
       "      <td>0</td>\n",
       "      <td>Beregis Avtomobilya</td>\n",
       "      <td>Innokentiy Smoktunovskiy|Oleg Efremov|Georgi Z...</td>\n",
       "      <td>NaN</td>\n",
       "      <td>Eldar Ryazanov</td>\n",
       "      <td>NaN</td>\n",
       "      <td>...</td>\n",
       "      <td>An insurance agent who moonlights as a carthie...</td>\n",
       "      <td>94</td>\n",
       "      <td>Mystery|Comedy</td>\n",
       "      <td>Mosfilm</td>\n",
       "      <td>1/1/66</td>\n",
       "      <td>11</td>\n",
       "      <td>6.5</td>\n",
       "      <td>1966</td>\n",
       "      <td>0.000000</td>\n",
       "      <td>0.0</td>\n",
       "    </tr>\n",
       "    <tr>\n",
       "      <th>10864</th>\n",
       "      <td>21449</td>\n",
       "      <td>tt0061177</td>\n",
       "      <td>0.064317</td>\n",
       "      <td>0</td>\n",
       "      <td>0</td>\n",
       "      <td>What's Up, Tiger Lily?</td>\n",
       "      <td>Tatsuya Mihashi|Akiko Wakabayashi|Mie Hama|Joh...</td>\n",
       "      <td>NaN</td>\n",
       "      <td>Woody Allen</td>\n",
       "      <td>WOODY ALLEN STRIKES BACK!</td>\n",
       "      <td>...</td>\n",
       "      <td>In comic Woody Allen's film debut, he took the...</td>\n",
       "      <td>80</td>\n",
       "      <td>Action|Comedy</td>\n",
       "      <td>Benedict Pictures Corp.</td>\n",
       "      <td>11/2/66</td>\n",
       "      <td>22</td>\n",
       "      <td>5.4</td>\n",
       "      <td>1966</td>\n",
       "      <td>0.000000</td>\n",
       "      <td>0.0</td>\n",
       "    </tr>\n",
       "    <tr>\n",
       "      <th>10865</th>\n",
       "      <td>22293</td>\n",
       "      <td>tt0060666</td>\n",
       "      <td>0.035919</td>\n",
       "      <td>19000</td>\n",
       "      <td>0</td>\n",
       "      <td>Manos: The Hands of Fate</td>\n",
       "      <td>Harold P. Warren|Tom Neyman|John Reynolds|Dian...</td>\n",
       "      <td>NaN</td>\n",
       "      <td>Harold P. Warren</td>\n",
       "      <td>It's Shocking! It's Beyond Your Imagination!</td>\n",
       "      <td>...</td>\n",
       "      <td>A family gets lost on the road and stumbles up...</td>\n",
       "      <td>74</td>\n",
       "      <td>Horror</td>\n",
       "      <td>Norm-Iris</td>\n",
       "      <td>11/15/66</td>\n",
       "      <td>15</td>\n",
       "      <td>1.5</td>\n",
       "      <td>1966</td>\n",
       "      <td>127642.279154</td>\n",
       "      <td>0.0</td>\n",
       "    </tr>\n",
       "  </tbody>\n",
       "</table>\n",
       "<p>4 rows × 21 columns</p>\n",
       "</div>"
      ],
      "text/plain": [
       "          id    imdb_id  popularity  budget  revenue  \\\n",
       "10862  20379  tt0060472    0.065543       0        0   \n",
       "10863  39768  tt0060161    0.065141       0        0   \n",
       "10864  21449  tt0061177    0.064317       0        0   \n",
       "10865  22293  tt0060666    0.035919   19000        0   \n",
       "\n",
       "                 original_title  \\\n",
       "10862                Grand Prix   \n",
       "10863       Beregis Avtomobilya   \n",
       "10864    What's Up, Tiger Lily?   \n",
       "10865  Manos: The Hands of Fate   \n",
       "\n",
       "                                                    cast homepage  \\\n",
       "10862  James Garner|Eva Marie Saint|Yves Montand|Tosh...      NaN   \n",
       "10863  Innokentiy Smoktunovskiy|Oleg Efremov|Georgi Z...      NaN   \n",
       "10864  Tatsuya Mihashi|Akiko Wakabayashi|Mie Hama|Joh...      NaN   \n",
       "10865  Harold P. Warren|Tom Neyman|John Reynolds|Dian...      NaN   \n",
       "\n",
       "                 director                                            tagline  \\\n",
       "10862  John Frankenheimer  Cinerama sweeps YOU into a drama of speed and ...   \n",
       "10863      Eldar Ryazanov                                                NaN   \n",
       "10864         Woody Allen                          WOODY ALLEN STRIKES BACK!   \n",
       "10865    Harold P. Warren       It's Shocking! It's Beyond Your Imagination!   \n",
       "\n",
       "       ...                                           overview runtime  \\\n",
       "10862  ...  Grand Prix driver Pete Aron is fired by his te...     176   \n",
       "10863  ...  An insurance agent who moonlights as a carthie...      94   \n",
       "10864  ...  In comic Woody Allen's film debut, he took the...      80   \n",
       "10865  ...  A family gets lost on the road and stumbles up...      74   \n",
       "\n",
       "                       genres  \\\n",
       "10862  Action|Adventure|Drama   \n",
       "10863          Mystery|Comedy   \n",
       "10864           Action|Comedy   \n",
       "10865                  Horror   \n",
       "\n",
       "                                    production_companies release_date  \\\n",
       "10862  Cherokee Productions|Joel Productions|Douglas ...     12/21/66   \n",
       "10863                                            Mosfilm       1/1/66   \n",
       "10864                            Benedict Pictures Corp.      11/2/66   \n",
       "10865                                          Norm-Iris     11/15/66   \n",
       "\n",
       "      vote_count  vote_average  release_year     budget_adj  revenue_adj  \n",
       "10862         20           5.7          1966       0.000000          0.0  \n",
       "10863         11           6.5          1966       0.000000          0.0  \n",
       "10864         22           5.4          1966       0.000000          0.0  \n",
       "10865         15           1.5          1966  127642.279154          0.0  \n",
       "\n",
       "[4 rows x 21 columns]"
      ]
     },
     "execution_count": 3,
     "metadata": {},
     "output_type": "execute_result"
    }
   ],
   "source": [
    "df_Movies.tail(4)"
   ]
  },
  {
   "cell_type": "code",
   "execution_count": 4,
   "metadata": {},
   "outputs": [
    {
     "data": {
      "text/plain": [
       "(10866, 21)"
      ]
     },
     "execution_count": 4,
     "metadata": {},
     "output_type": "execute_result"
    }
   ],
   "source": [
    "df_Movies.shape"
   ]
  },
  {
   "cell_type": "code",
   "execution_count": 5,
   "metadata": {},
   "outputs": [
    {
     "name": "stdout",
     "output_type": "stream",
     "text": [
      "<class 'pandas.core.frame.DataFrame'>\n",
      "RangeIndex: 10866 entries, 0 to 10865\n",
      "Data columns (total 21 columns):\n",
      " #   Column                Non-Null Count  Dtype  \n",
      "---  ------                --------------  -----  \n",
      " 0   id                    10866 non-null  int64  \n",
      " 1   imdb_id               10856 non-null  object \n",
      " 2   popularity            10866 non-null  float64\n",
      " 3   budget                10866 non-null  int64  \n",
      " 4   revenue               10866 non-null  int64  \n",
      " 5   original_title        10866 non-null  object \n",
      " 6   cast                  10790 non-null  object \n",
      " 7   homepage              2936 non-null   object \n",
      " 8   director              10822 non-null  object \n",
      " 9   tagline               8042 non-null   object \n",
      " 10  keywords              9373 non-null   object \n",
      " 11  overview              10862 non-null  object \n",
      " 12  runtime               10866 non-null  int64  \n",
      " 13  genres                10843 non-null  object \n",
      " 14  production_companies  9836 non-null   object \n",
      " 15  release_date          10866 non-null  object \n",
      " 16  vote_count            10866 non-null  int64  \n",
      " 17  vote_average          10866 non-null  float64\n",
      " 18  release_year          10866 non-null  int64  \n",
      " 19  budget_adj            10866 non-null  float64\n",
      " 20  revenue_adj           10866 non-null  float64\n",
      "dtypes: float64(4), int64(6), object(11)\n",
      "memory usage: 1.7+ MB\n"
     ]
    }
   ],
   "source": [
    "df_Movies.info()"
   ]
  },
  {
   "cell_type": "code",
   "execution_count": 6,
   "metadata": {},
   "outputs": [
    {
     "data": {
      "text/html": [
       "<div>\n",
       "<style scoped>\n",
       "    .dataframe tbody tr th:only-of-type {\n",
       "        vertical-align: middle;\n",
       "    }\n",
       "\n",
       "    .dataframe tbody tr th {\n",
       "        vertical-align: top;\n",
       "    }\n",
       "\n",
       "    .dataframe thead th {\n",
       "        text-align: right;\n",
       "    }\n",
       "</style>\n",
       "<table border=\"1\" class=\"dataframe\">\n",
       "  <thead>\n",
       "    <tr style=\"text-align: right;\">\n",
       "      <th></th>\n",
       "      <th>id</th>\n",
       "      <th>popularity</th>\n",
       "      <th>budget</th>\n",
       "      <th>revenue</th>\n",
       "      <th>runtime</th>\n",
       "      <th>vote_count</th>\n",
       "      <th>vote_average</th>\n",
       "      <th>release_year</th>\n",
       "      <th>budget_adj</th>\n",
       "      <th>revenue_adj</th>\n",
       "    </tr>\n",
       "  </thead>\n",
       "  <tbody>\n",
       "    <tr>\n",
       "      <th>count</th>\n",
       "      <td>10866.000000</td>\n",
       "      <td>10866.000000</td>\n",
       "      <td>1.086600e+04</td>\n",
       "      <td>1.086600e+04</td>\n",
       "      <td>10866.000000</td>\n",
       "      <td>10866.000000</td>\n",
       "      <td>10866.000000</td>\n",
       "      <td>10866.000000</td>\n",
       "      <td>1.086600e+04</td>\n",
       "      <td>1.086600e+04</td>\n",
       "    </tr>\n",
       "    <tr>\n",
       "      <th>mean</th>\n",
       "      <td>66064.177434</td>\n",
       "      <td>0.646441</td>\n",
       "      <td>1.462570e+07</td>\n",
       "      <td>3.982332e+07</td>\n",
       "      <td>102.070863</td>\n",
       "      <td>217.389748</td>\n",
       "      <td>5.974922</td>\n",
       "      <td>2001.322658</td>\n",
       "      <td>1.755104e+07</td>\n",
       "      <td>5.136436e+07</td>\n",
       "    </tr>\n",
       "    <tr>\n",
       "      <th>std</th>\n",
       "      <td>92130.136561</td>\n",
       "      <td>1.000185</td>\n",
       "      <td>3.091321e+07</td>\n",
       "      <td>1.170035e+08</td>\n",
       "      <td>31.381405</td>\n",
       "      <td>575.619058</td>\n",
       "      <td>0.935142</td>\n",
       "      <td>12.812941</td>\n",
       "      <td>3.430616e+07</td>\n",
       "      <td>1.446325e+08</td>\n",
       "    </tr>\n",
       "    <tr>\n",
       "      <th>min</th>\n",
       "      <td>5.000000</td>\n",
       "      <td>0.000065</td>\n",
       "      <td>0.000000e+00</td>\n",
       "      <td>0.000000e+00</td>\n",
       "      <td>0.000000</td>\n",
       "      <td>10.000000</td>\n",
       "      <td>1.500000</td>\n",
       "      <td>1960.000000</td>\n",
       "      <td>0.000000e+00</td>\n",
       "      <td>0.000000e+00</td>\n",
       "    </tr>\n",
       "    <tr>\n",
       "      <th>25%</th>\n",
       "      <td>10596.250000</td>\n",
       "      <td>0.207583</td>\n",
       "      <td>0.000000e+00</td>\n",
       "      <td>0.000000e+00</td>\n",
       "      <td>90.000000</td>\n",
       "      <td>17.000000</td>\n",
       "      <td>5.400000</td>\n",
       "      <td>1995.000000</td>\n",
       "      <td>0.000000e+00</td>\n",
       "      <td>0.000000e+00</td>\n",
       "    </tr>\n",
       "    <tr>\n",
       "      <th>50%</th>\n",
       "      <td>20669.000000</td>\n",
       "      <td>0.383856</td>\n",
       "      <td>0.000000e+00</td>\n",
       "      <td>0.000000e+00</td>\n",
       "      <td>99.000000</td>\n",
       "      <td>38.000000</td>\n",
       "      <td>6.000000</td>\n",
       "      <td>2006.000000</td>\n",
       "      <td>0.000000e+00</td>\n",
       "      <td>0.000000e+00</td>\n",
       "    </tr>\n",
       "    <tr>\n",
       "      <th>75%</th>\n",
       "      <td>75610.000000</td>\n",
       "      <td>0.713817</td>\n",
       "      <td>1.500000e+07</td>\n",
       "      <td>2.400000e+07</td>\n",
       "      <td>111.000000</td>\n",
       "      <td>145.750000</td>\n",
       "      <td>6.600000</td>\n",
       "      <td>2011.000000</td>\n",
       "      <td>2.085325e+07</td>\n",
       "      <td>3.369710e+07</td>\n",
       "    </tr>\n",
       "    <tr>\n",
       "      <th>max</th>\n",
       "      <td>417859.000000</td>\n",
       "      <td>32.985763</td>\n",
       "      <td>4.250000e+08</td>\n",
       "      <td>2.781506e+09</td>\n",
       "      <td>900.000000</td>\n",
       "      <td>9767.000000</td>\n",
       "      <td>9.200000</td>\n",
       "      <td>2015.000000</td>\n",
       "      <td>4.250000e+08</td>\n",
       "      <td>2.827124e+09</td>\n",
       "    </tr>\n",
       "  </tbody>\n",
       "</table>\n",
       "</div>"
      ],
      "text/plain": [
       "                  id    popularity        budget       revenue       runtime  \\\n",
       "count   10866.000000  10866.000000  1.086600e+04  1.086600e+04  10866.000000   \n",
       "mean    66064.177434      0.646441  1.462570e+07  3.982332e+07    102.070863   \n",
       "std     92130.136561      1.000185  3.091321e+07  1.170035e+08     31.381405   \n",
       "min         5.000000      0.000065  0.000000e+00  0.000000e+00      0.000000   \n",
       "25%     10596.250000      0.207583  0.000000e+00  0.000000e+00     90.000000   \n",
       "50%     20669.000000      0.383856  0.000000e+00  0.000000e+00     99.000000   \n",
       "75%     75610.000000      0.713817  1.500000e+07  2.400000e+07    111.000000   \n",
       "max    417859.000000     32.985763  4.250000e+08  2.781506e+09    900.000000   \n",
       "\n",
       "         vote_count  vote_average  release_year    budget_adj   revenue_adj  \n",
       "count  10866.000000  10866.000000  10866.000000  1.086600e+04  1.086600e+04  \n",
       "mean     217.389748      5.974922   2001.322658  1.755104e+07  5.136436e+07  \n",
       "std      575.619058      0.935142     12.812941  3.430616e+07  1.446325e+08  \n",
       "min       10.000000      1.500000   1960.000000  0.000000e+00  0.000000e+00  \n",
       "25%       17.000000      5.400000   1995.000000  0.000000e+00  0.000000e+00  \n",
       "50%       38.000000      6.000000   2006.000000  0.000000e+00  0.000000e+00  \n",
       "75%      145.750000      6.600000   2011.000000  2.085325e+07  3.369710e+07  \n",
       "max     9767.000000      9.200000   2015.000000  4.250000e+08  2.827124e+09  "
      ]
     },
     "execution_count": 6,
     "metadata": {},
     "output_type": "execute_result"
    }
   ],
   "source": [
    "df_Movies.describe()"
   ]
  },
  {
   "cell_type": "markdown",
   "metadata": {},
   "source": [
    "\n",
    "\n",
    "### Data Cleaning (Replace this with more specific notes!)"
   ]
  },
  {
   "cell_type": "markdown",
   "metadata": {},
   "source": [
    "### Drop some useless columns:"
   ]
  },
  {
   "cell_type": "code",
   "execution_count": 7,
   "metadata": {},
   "outputs": [],
   "source": [
    "df_Movies.drop(['imdb_id', 'homepage', 'tagline', 'overview'], axis=1, inplace=True)"
   ]
  },
  {
   "cell_type": "code",
   "execution_count": 8,
   "metadata": {},
   "outputs": [
    {
     "name": "stdout",
     "output_type": "stream",
     "text": [
      "<class 'pandas.core.frame.DataFrame'>\n",
      "RangeIndex: 10866 entries, 0 to 10865\n",
      "Data columns (total 17 columns):\n",
      " #   Column                Non-Null Count  Dtype  \n",
      "---  ------                --------------  -----  \n",
      " 0   id                    10866 non-null  int64  \n",
      " 1   popularity            10866 non-null  float64\n",
      " 2   budget                10866 non-null  int64  \n",
      " 3   revenue               10866 non-null  int64  \n",
      " 4   original_title        10866 non-null  object \n",
      " 5   cast                  10790 non-null  object \n",
      " 6   director              10822 non-null  object \n",
      " 7   keywords              9373 non-null   object \n",
      " 8   runtime               10866 non-null  int64  \n",
      " 9   genres                10843 non-null  object \n",
      " 10  production_companies  9836 non-null   object \n",
      " 11  release_date          10866 non-null  object \n",
      " 12  vote_count            10866 non-null  int64  \n",
      " 13  vote_average          10866 non-null  float64\n",
      " 14  release_year          10866 non-null  int64  \n",
      " 15  budget_adj            10866 non-null  float64\n",
      " 16  revenue_adj           10866 non-null  float64\n",
      "dtypes: float64(4), int64(6), object(7)\n",
      "memory usage: 1.4+ MB\n"
     ]
    }
   ],
   "source": [
    "df_Movies.info()"
   ]
  },
  {
   "cell_type": "markdown",
   "metadata": {},
   "source": [
    "### Count duplicates."
   ]
  },
  {
   "cell_type": "code",
   "execution_count": 9,
   "metadata": {
    "scrolled": true
   },
   "outputs": [
    {
     "data": {
      "text/plain": [
       "1"
      ]
     },
     "execution_count": 9,
     "metadata": {},
     "output_type": "execute_result"
    }
   ],
   "source": [
    "sum(df_Movies.duplicated())"
   ]
  },
  {
   "cell_type": "markdown",
   "metadata": {},
   "source": [
    "### delete the duplicates and make sure the duplicated are deleted\n"
   ]
  },
  {
   "cell_type": "code",
   "execution_count": 10,
   "metadata": {},
   "outputs": [],
   "source": [
    "df_Movies.drop_duplicates(inplace=True)"
   ]
  },
  {
   "cell_type": "code",
   "execution_count": 11,
   "metadata": {},
   "outputs": [
    {
     "data": {
      "text/plain": [
       "0"
      ]
     },
     "execution_count": 11,
     "metadata": {},
     "output_type": "execute_result"
    }
   ],
   "source": [
    "sum(df_Movies.duplicated())"
   ]
  },
  {
   "cell_type": "markdown",
   "metadata": {},
   "source": [
    "<a id='eda'></a>\n",
    "## Exploratory Data Analysis"
   ]
  },
  {
   "cell_type": "markdown",
   "metadata": {},
   "source": [
    "### 1- What is the Average Rate and Revenue"
   ]
  },
  {
   "cell_type": "markdown",
   "metadata": {},
   "source": [
    "#### 1.1: The Average Rate"
   ]
  },
  {
   "cell_type": "code",
   "execution_count": 12,
   "metadata": {},
   "outputs": [
    {
     "name": "stdout",
     "output_type": "stream",
     "text": [
      "Average Rate = 5.98\n"
     ]
    },
    {
     "data": {
      "text/plain": [
       "<matplotlib.axes._subplots.AxesSubplot at 0x272ca068588>"
      ]
     },
     "execution_count": 12,
     "metadata": {},
     "output_type": "execute_result"
    },
    {
     "data": {
      "image/png": "[encoded data removed]",
      "text/plain": [
       "<Figure size 432x288 with 1 Axes>"
      ]
     },
     "metadata": {
      "needs_background": "light"
     },
     "output_type": "display_data"
    }
   ],
   "source": [
    "avgRate = round ( df_Movies['vote_average'].mean(), 2)\n",
    "print(\"Average Rate = \"+str(avgRate))\n",
    "\n",
    "df_Movies['vote_average'].hist()"
   ]
  },
  {
   "cell_type": "markdown",
   "metadata": {},
   "source": [
    "#### 1.2: The Average Revenue"
   ]
  },
  {
   "cell_type": "code",
   "execution_count": 13,
   "metadata": {},
   "outputs": [
    {
     "name": "stdout",
     "output_type": "stream",
     "text": [
      "Average Revenue = 51369001.8\n"
     ]
    },
    {
     "data": {
      "image/png": "[encoded data removed]",
      "text/plain": [
       "<Figure size 432x288 with 1 Axes>"
      ]
     },
     "metadata": {
      "needs_background": "light"
     },
     "output_type": "display_data"
    }
   ],
   "source": [
    "avgRevenue = round ( df_Movies['revenue_adj'].mean(), 1)\n",
    "print(\"Average Revenue = \"+str(avgRevenue))\n",
    "\n",
    "df_Movies.plot(x ='release_year', y='revenue_adj',kind='scatter',color = 'grey', fontsize = 10);\n",
    "plt.title('Average Revenue by years', fontsize = 13);"
   ]
  },
  {
   "cell_type": "markdown",
   "metadata": {},
   "source": [
    "### 2- Highest Rating Movie:"
   ]
  },
  {
   "cell_type": "code",
   "execution_count": 59,
   "metadata": {
    "scrolled": true
   },
   "outputs": [
    {
     "name": "stdout",
     "output_type": "stream",
     "text": [
      "Highest Movie Rate:\n",
      "\tName: (The Story of Film: An Odyssey)\n",
      "\tRate: (9.2)\n"
     ]
    }
   ],
   "source": [
    "max_vote = df_Movies['vote_average'].idxmax()\n",
    "highName = df_Movies.loc[max_vote, 'original_title']\n",
    "highRate = max(df_Movies['vote_average'])\n",
    "\n",
    "print(\"Highest Movie Rate:\")\n",
    "print(\"\\tName: (\"+highName+\")\\n\\tRate: (\"+str(highRate)+\")\" )"
   ]
  },
  {
   "cell_type": "code",
   "execution_count": 61,
   "metadata": {},
   "outputs": [
    {
     "data": {
      "text/plain": [
       "id                                                                 125336\n",
       "popularity                                                       0.006925\n",
       "budget                                                                  0\n",
       "revenue                                                                 0\n",
       "original_title                              The Story of Film: An Odyssey\n",
       "cast                    Mark Cousins|Jean-Michel Frodon|Cari Beauchamp...\n",
       "director                                                     Mark Cousins\n",
       "keywords                cinema|nouvelle vague|hindi cinema|cinema novo...\n",
       "runtime                                                               900\n",
       "genres                                                        Documentary\n",
       "production_companies                                                  NaN\n",
       "release_date                                                       9/3/11\n",
       "vote_count                                                             14\n",
       "vote_average                                                          9.2\n",
       "release_year                                                         2011\n",
       "budget_adj                                                              0\n",
       "revenue_adj                                                             0\n",
       "Name: 3894, dtype: object"
      ]
     },
     "execution_count": 61,
     "metadata": {},
     "output_type": "execute_result"
    }
   ],
   "source": [
    "df_Movies.loc[max_vote]"
   ]
  },
  {
   "cell_type": "markdown",
   "metadata": {},
   "source": [
    "### 3- Lowest Rating Movie:"
   ]
  },
  {
   "cell_type": "code",
   "execution_count": 57,
   "metadata": {},
   "outputs": [
    {
     "name": "stdout",
     "output_type": "stream",
     "text": [
      "Lowest Movie Rate:\n",
      "\tName: (Transmorphers)\n",
      "\tRate: (1.5)\n"
     ]
    }
   ],
   "source": [
    "min_vote = df_Movies['vote_average'].idxmin()\n",
    "lowName = df_Movies.loc[min_vote, 'original_title']\n",
    "lowRate = min(df_Movies['vote_average'])\n",
    "\n",
    "print(\"Lowest Movie Rate:\")\n",
    "print(\"\\tName: (\"+lowName+\")\\n\\tRate: (\"+str(lowRate)+\")\" )"
   ]
  },
  {
   "cell_type": "code",
   "execution_count": 58,
   "metadata": {},
   "outputs": [
    {
     "data": {
      "text/plain": [
       "id                                                                  25055\n",
       "popularity                                                        0.12112\n",
       "budget                                                                  0\n",
       "revenue                                                                 0\n",
       "original_title                                              Transmorphers\n",
       "cast                    Matthew Wolf|Amy Weber|Shaley Scott|Eliza Swen...\n",
       "director                                                      Leigh Scott\n",
       "keywords                                                       futuristic\n",
       "runtime                                                                86\n",
       "genres                                   Action|Adventure|Science Fiction\n",
       "production_companies                                          Asylum, The\n",
       "release_date                                                      6/26/07\n",
       "vote_count                                                             10\n",
       "vote_average                                                          1.5\n",
       "release_year                                                         2007\n",
       "budget_adj                                                              0\n",
       "revenue_adj                                                             0\n",
       "Name: 7772, dtype: object"
      ]
     },
     "execution_count": 58,
     "metadata": {},
     "output_type": "execute_result"
    }
   ],
   "source": [
    "df_Movies.loc[min_vote]"
   ]
  },
  {
   "cell_type": "markdown",
   "metadata": {},
   "source": [
    "### 4- Highest revenue:"
   ]
  },
  {
   "cell_type": "code",
   "execution_count": 16,
   "metadata": {},
   "outputs": [
    {
     "name": "stdout",
     "output_type": "stream",
     "text": [
      "Highest Movie Revenue:\n",
      "\tName: (Avatar)\n",
      "\tRevenue: (2827123750.41189 $)\n"
     ]
    }
   ],
   "source": [
    "max_revenue = df_Movies['revenue_adj'].idxmax()\n",
    "highRevenueName = df_Movies.loc[max_revenue, 'original_title']\n",
    "maxRevenue = max(df_Movies['revenue_adj'])\n",
    "print(\"Highest Movie Revenue:\")\n",
    "print(\"\\tName: (\"+highRevenueName+\")\\n\\tRevenue: (\"+str(maxRevenue)+\" $)\" )"
   ]
  },
  {
   "cell_type": "code",
   "execution_count": 63,
   "metadata": {},
   "outputs": [
    {
     "data": {
      "text/plain": [
       "id                                                                  19995\n",
       "popularity                                                        9.43277\n",
       "budget                                                          237000000\n",
       "revenue                                                        2781505847\n",
       "original_title                                                     Avatar\n",
       "cast                    Sam Worthington|Zoe Saldana|Sigourney Weaver|S...\n",
       "director                                                    James Cameron\n",
       "keywords                culture clash|future|space war|space colony|so...\n",
       "runtime                                                               162\n",
       "genres                           Action|Adventure|Fantasy|Science Fiction\n",
       "production_companies    Ingenious Film Partners|Twentieth Century Fox ...\n",
       "release_date                                                     12/10/09\n",
       "vote_count                                                           8458\n",
       "vote_average                                                          7.1\n",
       "release_year                                                         2009\n",
       "budget_adj                                                    2.40887e+08\n",
       "revenue_adj                                                   2.82712e+09\n",
       "Name: 1386, dtype: object"
      ]
     },
     "execution_count": 63,
     "metadata": {},
     "output_type": "execute_result"
    }
   ],
   "source": [
    "df_Movies.loc[max_revenue]"
   ]
  },
  {
   "cell_type": "markdown",
   "metadata": {},
   "source": [
    "### 5- Lowest revenue"
   ]
  },
  {
   "cell_type": "code",
   "execution_count": 17,
   "metadata": {},
   "outputs": [
    {
     "name": "stdout",
     "output_type": "stream",
     "text": [
      "Lowest Movie Revenue:\n",
      "\tName: (Wild Card)\n",
      "\tRevenue: (0.0 $)\n"
     ]
    }
   ],
   "source": [
    "min_revenue = df_Movies['revenue_adj'].idxmin()\n",
    "lowRevenueName = df_Movies.loc[min_revenue, 'original_title']\n",
    "minRevenue = min(df_Movies['revenue_adj'])\n",
    "print(\"Lowest Movie Revenue:\")\n",
    "print(\"\\tName: (\"+lowRevenueName+\")\\n\\tRevenue: (\"+str(minRevenue)+\" $)\" )"
   ]
  },
  {
   "cell_type": "code",
   "execution_count": 62,
   "metadata": {},
   "outputs": [
    {
     "data": {
      "text/plain": [
       "id                                                                 265208\n",
       "popularity                                                        2.93234\n",
       "budget                                                           30000000\n",
       "revenue                                                                 0\n",
       "original_title                                                  Wild Card\n",
       "cast                    Jason Statham|Michael Angarano|Milo Ventimigli...\n",
       "director                                                       Simon West\n",
       "keywords                                        gambling|bodyguard|remake\n",
       "runtime                                                                92\n",
       "genres                                               Thriller|Crime|Drama\n",
       "production_companies    Current Entertainment|Lionsgate|Sierra / Affin...\n",
       "release_date                                                      1/14/15\n",
       "vote_count                                                            481\n",
       "vote_average                                                          5.3\n",
       "release_year                                                         2015\n",
       "budget_adj                                                       2.76e+07\n",
       "revenue_adj                                                             0\n",
       "Name: 48, dtype: object"
      ]
     },
     "execution_count": 62,
     "metadata": {},
     "output_type": "execute_result"
    }
   ],
   "source": [
    "df_Movies.loc[min_revenue]"
   ]
  },
  {
   "cell_type": "markdown",
   "metadata": {},
   "source": [
    "### 6- how many movies above and below the average rating\n"
   ]
  },
  {
   "cell_type": "code",
   "execution_count": 66,
   "metadata": {
    "scrolled": false
   },
   "outputs": [
    {
     "name": "stdout",
     "output_type": "stream",
     "text": [
      "The movie's Rating comparing to Average Rating: \n",
      "Above Average Rating(5.975): 5810 Movies\n",
      "Below Average Rating(5.975): 5055 Movies\n"
     ]
    }
   ],
   "source": [
    "averageRating = df_Movies.vote_average.mean()\n",
    "\n",
    "movies_above = df_Movies.query('vote_average >= 5.975').id.count()\n",
    "movies_below = df_Movies.query('vote_average < 5.975').id.count()\n",
    "\n",
    "print(\"The movie's Rating comparing to Average Rating: \")\n",
    "print(\"Above Average Rating(5.975): \"+ str(movies_above) +\" Movies\\nBelow Average Rating(5.975): \"\n",
    "      +str(movies_below)+\" Movies\")"
   ]
  },
  {
   "cell_type": "markdown",
   "metadata": {},
   "source": [
    "### 7- Who is the better director (Tarantino, Nolan or Scorsese) ?"
   ]
  },
  {
   "cell_type": "markdown",
   "metadata": {},
   "source": [
    "#### 7.1: Explore Quentin Tarantino."
   ]
  },
  {
   "cell_type": "code",
   "execution_count": 70,
   "metadata": {},
   "outputs": [
    {
     "name": "stdout",
     "output_type": "stream",
     "text": [
      "Quentin Tarantino:\n",
      "\tDirecting (11) Movies.\n",
      "\tThe average rating for his films = (7.35/10)\n",
      "\tHis Popularity = 46.06\n",
      "\tHis Total Profit = 1317420737.68\n"
     ]
    }
   ],
   "source": [
    "Quentin_movies_count = df_Movies.query(' director == \"Quentin Tarantino\" ').original_title.count()\n",
    "Quentin_Popularity = round( df_Movies.query(' director == \"Quentin Tarantino\" ').popularity.sum(), 2)\n",
    "Quentin_movies_avgRate = round( df_Movies.query(' director == \"Quentin Tarantino\" ').vote_average.mean(), 2)\n",
    "Quentin_profit = round( (df_Movies.query(' director == \"Quentin Tarantino\" ').revenue_adj.sum())-(df_Movies.query(' director == \"Quentin Tarantino\" ').budget_adj.sum() ), 2)\n",
    "\n",
    "print(\"Quentin Tarantino:\")\n",
    "print(\"\\tDirecting (\"+str(Quentin_movies_count)+\") Movies.\")\n",
    "print(\"\\tThe average rating for his films = (\"+ str(Quentin_movies_avgRate)+\"/10)\")\n",
    "print(\"\\tHis Popularity = \"+str(Quentin_Popularity))\n",
    "print(\"\\tHis Total Profit = \"+ str(Quentin_profit))"
   ]
  },
  {
   "cell_type": "markdown",
   "metadata": {},
   "source": [
    "#### 7.2: Explore Christopher Nolan."
   ]
  },
  {
   "cell_type": "code",
   "execution_count": 71,
   "metadata": {},
   "outputs": [
    {
     "name": "stdout",
     "output_type": "stream",
     "text": [
      "Christopher Nolan:\n",
      "\tDirecting (10) Movies.\n",
      "\tThe average rating for his films = (7.47/10)\n",
      "\tHis Popularity = 61.96\n",
      "\tHis Total Profit = 3149568381.05\n"
     ]
    }
   ],
   "source": [
    "Nolan_movies_count = df_Movies.query(' director == \"Christopher Nolan\" ').original_title.count()\n",
    "Nolan_Popularity = round( df_Movies.query(' director == \"Christopher Nolan\" ').popularity.sum(), 2)\n",
    "Nolan_movies_avgRate = round( df_Movies.query(' director == \"Christopher Nolan\" ').vote_average.mean(), 2)\n",
    "Nolan_profit = round( (df_Movies.query(' director == \"Christopher Nolan\" ').revenue_adj.sum())-(df_Movies.query(' director == \"Christopher Nolan\" ').budget_adj.sum() ), 2)\n",
    "\n",
    "print(\"Christopher Nolan:\")\n",
    "print(\"\\tDirecting (\"+str(Nolan_movies_count)+\") Movies.\")\n",
    "print(\"\\tThe average rating for his films = (\"+ str(Nolan_movies_avgRate)+\"/10)\")\n",
    "print(\"\\tHis Popularity = \"+str(Nolan_Popularity))\n",
    "print(\"\\tHis Total Profit = \"+ str(Nolan_profit))"
   ]
  },
  {
   "cell_type": "markdown",
   "metadata": {},
   "source": [
    "#### 7.3: Explore Martin Scorsese."
   ]
  },
  {
   "cell_type": "code",
   "execution_count": 72,
   "metadata": {
    "scrolled": true
   },
   "outputs": [
    {
     "name": "stdout",
     "output_type": "stream",
     "text": [
      "Martin Scorsese:\n",
      "\tDirecting (29) Movies.\n",
      "\tThe average rating for his films = (6.96/10)\n",
      "\tHis Popularity = 32.73\n",
      "\tHis Total Profit = 1277125947.28\n"
     ]
    }
   ],
   "source": [
    "Scorsese_movies_count = df_Movies.query(' director == \"Martin Scorsese\" ').original_title.count()\n",
    "Scorsese_Popularity = round( df_Movies.query(' director == \"Martin Scorsese\" ').popularity.sum(), 2)\n",
    "Scorsese_movies_avgRate = round( df_Movies.query(' director == \"Martin Scorsese\" ').vote_average.mean(), 2)\n",
    "Scorsese_profit = round( (df_Movies.query(' director == \"Martin Scorsese\" ').revenue_adj.sum())-(df_Movies.query(' director == \"Martin Scorsese\" ').budget_adj.sum() ), 2)\n",
    "\n",
    "print(\"Martin Scorsese:\")\n",
    "print(\"\\tDirecting (\"+str(Scorsese_movies_count)+\") Movies.\")\n",
    "print(\"\\tThe average rating for his films = (\"+ str(Scorsese_movies_avgRate)+\"/10)\")\n",
    "print(\"\\tHis Popularity = \"+str(Scorsese_Popularity))\n",
    "print(\"\\tHis Total Profit = \"+ str(Scorsese_profit))"
   ]
  },
  {
   "cell_type": "markdown",
   "metadata": {},
   "source": [
    "#### 7.4: Comparing between (Quentin, Nolan and Scorsese)."
   ]
  },
  {
   "cell_type": "markdown",
   "metadata": {},
   "source": [
    "##### 7.4.1: Comparing Average Rating Movies."
   ]
  },
  {
   "cell_type": "code",
   "execution_count": 73,
   "metadata": {},
   "outputs": [
    {
     "data": {
      "image/png": "[encoded data removed]",
      "text/plain": [
       "<Figure size 640x480 with 1 Axes>"
      ]
     },
     "metadata": {},
     "output_type": "display_data"
    }
   ],
   "source": [
    "plt.bar([1, 2, 3], \n",
    "        [Quentin_movies_avgRate, Nolan_movies_avgRate, Scorsese_movies_avgRate], \n",
    "        tick_label=['Quentin', 'Nolan', 'Scorsese'], \n",
    "        color='darkred', \n",
    "        width=0.9)\n",
    "\n",
    "plt.title('Average Rating')\n",
    "plt.xlabel('Director Name')\n",
    "plt.ylabel('Rate');"
   ]
  },
  {
   "cell_type": "markdown",
   "metadata": {},
   "source": [
    "##### 7.4.2: Comparing how many Movies they are directed."
   ]
  },
  {
   "cell_type": "code",
   "execution_count": 74,
   "metadata": {},
   "outputs": [
    {
     "data": {
      "image/png": "[encoded data removed]",
      "text/plain": [
       "<Figure size 640x480 with 1 Axes>"
      ]
     },
     "metadata": {},
     "output_type": "display_data"
    }
   ],
   "source": [
    "plt.bar([1, 2, 3], \n",
    "        [Quentin_movies_count, Nolan_movies_count, Scorsese_movies_count], \n",
    "        tick_label=['Quentin', 'Nolan', 'Scorsese'], \n",
    "        color='midnightblue', width=0.9)\n",
    "\n",
    "plt.title('Number of Movies')\n",
    "plt.xlabel('Director Name')\n",
    "plt.ylabel('Numbers');"
   ]
  },
  {
   "cell_type": "markdown",
   "metadata": {},
   "source": [
    "##### 7.4.3: Comparing The popularitiest."
   ]
  },
  {
   "cell_type": "code",
   "execution_count": 75,
   "metadata": {},
   "outputs": [
    {
     "data": {
      "image/png": "[encoded data removed]",
      "text/plain": [
       "<Figure size 640x480 with 1 Axes>"
      ]
     },
     "metadata": {},
     "output_type": "display_data"
    }
   ],
   "source": [
    "plt.bar([1, 2, 3], \n",
    "        [Quentin_Popularity, Nolan_Popularity, Scorsese_Popularity], \n",
    "        tick_label=['Quentin', 'Nolan', 'Scorsese'], \n",
    "        color='darkgreen', width=0.9)\n",
    "\n",
    "plt.title('Popularity')\n",
    "plt.xlabel('Director Name')\n",
    "plt.ylabel('Popularities');"
   ]
  },
  {
   "cell_type": "markdown",
   "metadata": {},
   "source": [
    "##### 7.4.4: Comparing who got more profit."
   ]
  },
  {
   "cell_type": "code",
   "execution_count": 76,
   "metadata": {},
   "outputs": [
    {
     "data": {
      "image/png": "[encoded data removed]",
      "text/plain": [
       "<Figure size 640x480 with 1 Axes>"
      ]
     },
     "metadata": {},
     "output_type": "display_data"
    }
   ],
   "source": [
    "plt.bar([1, 2, 3], \n",
    "        [Quentin_profit, Nolan_profit, Scorsese_profit], \n",
    "        tick_label=['Quentin', 'Nolan', 'Scorsese'], \n",
    "        color='darkorange', width=0.9)\n",
    "\n",
    "plt.title('Profit')\n",
    "plt.xlabel('Director Name')\n",
    "plt.ylabel('Profet $');"
   ]
  },
  {
   "cell_type": "markdown",
   "metadata": {},
   "source": [
    "### 8- Comparing Ratings, Revenues and Popularity. by some geners\n"
   ]
  },
  {
   "cell_type": "markdown",
   "metadata": {},
   "source": [
    "#### 8.1.1: Genre Romance."
   ]
  },
  {
   "cell_type": "code",
   "execution_count": 26,
   "metadata": {},
   "outputs": [
    {
     "name": "stdout",
     "output_type": "stream",
     "text": [
      "Genre: Romance\n",
      "\tTotal Revenue: (110656268.8232817)$ \n",
      "\tAverage Rate: (5.92/10)\n",
      "\tpopularity: (0.267)\n"
     ]
    }
   ],
   "source": [
    "RomanceRev = df_Movies.query(' genres == \"Romance\" ').revenue_adj.sum()\n",
    "RomanceAvgRate = round( df_Movies.query(' genres == \"Romance\" ').vote_average.mean(), 2)\n",
    "RomancePop = round( df_Movies.query(' genres == \"Romance\" ').popularity.mean(), 3)\n",
    "\n",
    "print(\"Genre: Romance\")\n",
    "print(\"\\tTotal Revenue: (\"+str(RomanceRev)+\")$ \\n\\tAverage Rate: (\"+str(RomanceAvgRate)+\"/10)\")\n",
    "print(\"\\tpopularity: (\"+str(RomancePop)+\")\")"
   ]
  },
  {
   "cell_type": "markdown",
   "metadata": {},
   "source": [
    "#### 8.1.2: Genre Comedy."
   ]
  },
  {
   "cell_type": "code",
   "execution_count": 27,
   "metadata": {},
   "outputs": [
    {
     "name": "stdout",
     "output_type": "stream",
     "text": [
      "Genre: Comedy\n",
      "\tTotal Revenue: (24851953624.492527)$ \n",
      "\tAverage Rate: (5.83/10)\n",
      "\tpopularity: (0.527)\n"
     ]
    }
   ],
   "source": [
    "ComedyRev = df_Movies.query(' genres == \"Comedy\" ').revenue_adj.sum()\n",
    "ComedyAvgRate = round( df_Movies.query(' genres == \"Comedy\" ').vote_average.mean(), 2)\n",
    "ComedyPop = round( df_Movies.query(' genres == \"Comedy\" ').popularity.mean(), 3)\n",
    "\n",
    "print(\"Genre: Comedy\")\n",
    "print(\"\\tTotal Revenue: (\"+str(ComedyRev)+\")$ \\n\\tAverage Rate: (\"+str(ComedyAvgRate)+\"/10)\")\n",
    "print(\"\\tpopularity: (\"+str(ComedyPop)+\")\")"
   ]
  },
  {
   "cell_type": "markdown",
   "metadata": {},
   "source": [
    "#### 8.1.3: Genre Crime."
   ]
  },
  {
   "cell_type": "code",
   "execution_count": 28,
   "metadata": {},
   "outputs": [
    {
     "name": "stdout",
     "output_type": "stream",
     "text": [
      "Genre: Crime\n",
      "\tTotal Revenue: (0.0)$ \n",
      "\tAverage Rate: (5.13/10)\n",
      "\tpopularity: (0.176)\n"
     ]
    }
   ],
   "source": [
    "CrimeRev = df_Movies.query(' genres == \"Crime\" ').revenue_adj.sum()\n",
    "CrimeAvgRate = round( df_Movies.query(' genres == \"Crime\" ').vote_average.mean(), 2)\n",
    "CrimePop = round( df_Movies.query(' genres == \"Crime\" ').popularity.mean(), 3)\n",
    "\n",
    "\n",
    "print(\"Genre: Crime\")\n",
    "print(\"\\tTotal Revenue: (\"+str(CrimeRev)+\")$ \\n\\tAverage Rate: (\"+str(CrimeAvgRate)+\"/10)\")\n",
    "print(\"\\tpopularity: (\"+str(CrimePop)+\")\")"
   ]
  },
  {
   "cell_type": "markdown",
   "metadata": {},
   "source": [
    "#### 8.1.4: Genre Action."
   ]
  },
  {
   "cell_type": "code",
   "execution_count": 29,
   "metadata": {},
   "outputs": [
    {
     "name": "stdout",
     "output_type": "stream",
     "text": [
      "Genre: Action\n",
      "\tTotal Revenue: (2446612218.6752334)$ \n",
      "\tAverage Rate: (5.53/10)\n",
      "\tpopularity: (0.592)\n"
     ]
    }
   ],
   "source": [
    "ActionRev = df_Movies.query(' genres == \"Action\" ').revenue_adj.sum()\n",
    "ActionAvgRate = round( df_Movies.query(' genres == \"Action\" ').vote_average.mean(), 2)\n",
    "ActionPop = round( df_Movies.query(' genres == \"Action\" ').popularity.mean(), 3)\n",
    "\n",
    "print(\"Genre: Action\")\n",
    "print(\"\\tTotal Revenue: (\"+str(ActionRev)+\")$ \\n\\tAverage Rate: (\"+str(ActionAvgRate)+\"/10)\")\n",
    "print(\"\\tpopularity: (\"+str(ActionPop)+\")\")"
   ]
  },
  {
   "cell_type": "markdown",
   "metadata": {},
   "source": [
    "#### 8.1.5: Genre Adventure."
   ]
  },
  {
   "cell_type": "code",
   "execution_count": 30,
   "metadata": {},
   "outputs": [
    {
     "name": "stdout",
     "output_type": "stream",
     "text": [
      "Genre: Adventure\n",
      "\tTotal Revenue: (1220910153.6873975)$ \n",
      "\tAverage Rate: (5.55/10)\n",
      "\tpopularity: (0.649)\n"
     ]
    }
   ],
   "source": [
    "AdventureRev = df_Movies.query(' genres == \"Adventure\" ').revenue_adj.sum()\n",
    "AdventureAvgRate = round( df_Movies.query(' genres == \"Adventure\" ').vote_average.mean(), 2)\n",
    "AdventurePop = round( df_Movies.query(' genres == \"Adventure\" ').popularity.mean(), 3)\n",
    "\n",
    "print(\"Genre: Adventure\")\n",
    "print(\"\\tTotal Revenue: (\"+str(AdventureRev)+\")$ \\n\\tAverage Rate: (\"+str(AdventureAvgRate)+\"/10)\")\n",
    "print(\"\\tpopularity: (\"+str(AdventurePop)+\")\")"
   ]
  },
  {
   "cell_type": "markdown",
   "metadata": {},
   "source": [
    "#### 8.1.6: Genre War."
   ]
  },
  {
   "cell_type": "code",
   "execution_count": 31,
   "metadata": {},
   "outputs": [
    {
     "name": "stdout",
     "output_type": "stream",
     "text": [
      "Genre: War\n",
      "\tTotal Revenue: (166615814.0804482)$ \n",
      "\tAverage Rate: (6.48/10)\n",
      "\tpopularity: (1.058)\n"
     ]
    }
   ],
   "source": [
    "WarRev = df_Movies.query(' genres == \"War\" ').revenue_adj.sum()\n",
    "WarAvgRate = round( df_Movies.query(' genres == \"War\" ').vote_average.mean(), 2)\n",
    "WarPop = round( df_Movies.query(' genres == \"War\" ').popularity.mean(), 3)\n",
    "\n",
    "print(\"Genre: War\")\n",
    "print(\"\\tTotal Revenue: (\"+str(WarRev)+\")$ \\n\\tAverage Rate: (\"+str(WarAvgRate)+\"/10)\")\n",
    "print(\"\\tpopularity: (\"+str(WarPop)+\")\")"
   ]
  },
  {
   "cell_type": "markdown",
   "metadata": {},
   "source": [
    "#### 8.1.7: Genre Drama."
   ]
  },
  {
   "cell_type": "code",
   "execution_count": 32,
   "metadata": {},
   "outputs": [
    {
     "name": "stdout",
     "output_type": "stream",
     "text": [
      "Genre: Drama\n",
      "\tTotal Revenue: (20902569439.736996)$ \n",
      "\tAverage Rate: (6.32/10)\n",
      "\tpopularity: (0.507)\n"
     ]
    }
   ],
   "source": [
    "DramaRev = df_Movies.query(' genres == \"Drama\" ').revenue_adj.sum()\n",
    "DramaAvgRate = round( df_Movies.query(' genres == \"Drama\" ').vote_average.mean(), 2)\n",
    "DramaPop = round( df_Movies.query(' genres == \"Drama\" ').popularity.mean(), 3)\n",
    "\n",
    "print(\"Genre: Drama\")\n",
    "print(\"\\tTotal Revenue: (\"+str(DramaRev)+\")$ \\n\\tAverage Rate: (\"+str(DramaAvgRate)+\"/10)\")\n",
    "print(\"\\tpopularity: (\"+str(DramaPop)+\")\")"
   ]
  },
  {
   "cell_type": "markdown",
   "metadata": {},
   "source": [
    "#### 8.1.8: Genre Horror."
   ]
  },
  {
   "cell_type": "code",
   "execution_count": 33,
   "metadata": {},
   "outputs": [
    {
     "name": "stdout",
     "output_type": "stream",
     "text": [
      "Genre: Horror\n",
      "\tTotal Revenue: (3797026291.956844)$ \n",
      "\tAverage Rate: (5.13/10)\n",
      "\tpopularity: (0.37)\n"
     ]
    }
   ],
   "source": [
    "HorrorRev = df_Movies.query(' genres == \"Horror\" ').revenue_adj.sum()\n",
    "HorrorAvgRate = round( df_Movies.query(' genres == \"Horror\" ').vote_average.mean(), 2)\n",
    "HorrorPop = round( df_Movies.query(' genres == \"Horror\" ').popularity.mean(), 3)\n",
    "\n",
    "print(\"Genre: Horror\")\n",
    "print(\"\\tTotal Revenue: (\"+str(HorrorRev)+\")$ \\n\\tAverage Rate: (\"+str(HorrorAvgRate)+\"/10)\")\n",
    "print(\"\\tpopularity: (\"+str(HorrorPop)+\")\")"
   ]
  },
  {
   "cell_type": "markdown",
   "metadata": {},
   "source": [
    "### 8.2- Comparing between genres"
   ]
  },
  {
   "cell_type": "markdown",
   "metadata": {},
   "source": [
    "#### 8.2.1: The Average Rate."
   ]
  },
  {
   "cell_type": "code",
   "execution_count": 34,
   "metadata": {},
   "outputs": [
    {
     "data": {
      "image/png": "[encoded data removed]",
      "text/plain": [
       "<Figure size 640x480 with 1 Axes>"
      ]
     },
     "metadata": {},
     "output_type": "display_data"
    }
   ],
   "source": [
    "np.random.seed(19680801)\n",
    "\n",
    "\n",
    "plt.rcdefaults()\n",
    "fig, ax = plt.subplots()\n",
    "\n",
    "\n",
    "genres_1 = ('Romance', 'Comedy', 'Action', 'Adventure', 'War', 'Crime', 'Drama', 'Horror')\n",
    "y_pos = np.arange(len(genres_1))\n",
    "Genre_Rate = (RomanceAvgRate, ComedyAvgRate, ActionAvgRate, AdventureAvgRate, WarAvgRate, CrimeAvgRate, DramaAvgRate, HorrorAvgRate)\n",
    "\n",
    "error = np.random.rand(len(genres_1))\n",
    "\n",
    "ax.barh(y_pos, Genre_Rate, align='center', color='midnightblue')\n",
    "ax.set_yticks(y_pos)\n",
    "ax.set_yticklabels(genres_1)\n",
    "ax.invert_yaxis()\n",
    "ax.set_xlabel('Rate')\n",
    "ax.set_title('The Genre Average Rate')\n",
    "\n",
    "plt.show()"
   ]
  },
  {
   "cell_type": "markdown",
   "metadata": {},
   "source": [
    "#### 8.2.2: Average Revenue."
   ]
  },
  {
   "cell_type": "code",
   "execution_count": 35,
   "metadata": {
    "scrolled": true
   },
   "outputs": [
    {
     "data": {
      "image/png": "[encoded data removed]",
      "text/plain": [
       "<Figure size 640x480 with 1 Axes>"
      ]
     },
     "metadata": {},
     "output_type": "display_data"
    }
   ],
   "source": [
    "np.random.seed(19680801)\n",
    "\n",
    "\n",
    "plt.rcdefaults()\n",
    "fig, ax = plt.subplots()\n",
    "\n",
    "\n",
    "genres_1 = ('Romance', 'Comedy', 'Action', 'Adventure', 'War', 'Crime', 'Drama', 'Horror')\n",
    "y_pos = np.arange(len(genres_1))\n",
    "Genre_Rate = (RomanceRev, ComedyRev, ActionRev, AdventureRev, WarRev, CrimeRev, DramaRev, HorrorRev)\n",
    "\n",
    "error = np.random.rand(len(genres_1))\n",
    "\n",
    "ax.barh(y_pos, Genre_Rate, align='center', color='purple')\n",
    "ax.set_yticks(y_pos)\n",
    "ax.set_yticklabels(genres_1)\n",
    "ax.invert_yaxis()\n",
    "ax.set_xlabel('Rate')\n",
    "ax.set_title('Revenue')\n",
    "\n",
    "plt.show()"
   ]
  },
  {
   "cell_type": "markdown",
   "metadata": {},
   "source": [
    "#### 8.2.3: Most Popularity."
   ]
  },
  {
   "cell_type": "code",
   "execution_count": 36,
   "metadata": {
    "scrolled": true
   },
   "outputs": [
    {
     "data": {
      "image/png": "[encoded data removed]",
      "text/plain": [
       "<Figure size 640x480 with 1 Axes>"
      ]
     },
     "metadata": {},
     "output_type": "display_data"
    }
   ],
   "source": [
    "np.random.seed(19680801)\n",
    "\n",
    "\n",
    "plt.rcdefaults()\n",
    "fig, ax = plt.subplots()\n",
    "\n",
    "\n",
    "genres_1 = ('Romance', 'Comedy', 'Action', 'Adventure', 'War', 'Crime', 'Drama', 'Horror')\n",
    "y_pos = np.arange(len(genres_1))\n",
    "Genre_Rate = (RomancePop, ComedyPop, ActionPop, AdventurePop, WarPop, CrimePop, DramaPop, HorrorPop)\n",
    "\n",
    "error = np.random.rand(len(genres_1))\n",
    "\n",
    "ax.barh(y_pos, Genre_Rate, align='center', color='darkgreen')\n",
    "ax.set_yticks(y_pos)\n",
    "ax.set_yticklabels(genres_1)\n",
    "ax.invert_yaxis()\n",
    "ax.set_xlabel('Rate')\n",
    "ax.set_title('Popularity')\n",
    "\n",
    "plt.show()"
   ]
  },
  {
   "cell_type": "markdown",
   "metadata": {},
   "source": [
    "<a id='conclusions'></a>\n",
    "## Conclusions"
   ]
  },
  {
   "cell_type": "markdown",
   "metadata": {},
   "source": [
    "### Observation:\n",
    "1- I noticed that the total average Rating is arround 6/10, so there is a lot of movies get low rate and that caused low average rate. and the average revenue is 51 million dollar it is a huge number.\n",
    "\n",
    "2- The highest rate movie is (The Story of Film: An Odyssey) which release in 2011 and its genre is Documentary and got (9.2/10).\n",
    "\n",
    "3- The lowest rate movie is (Transmorphers) which release in 2007 and its genre is (Action/Adventure/Science Fiction) and got (1.5/10).\n",
    "\n",
    "4- The Highest revenue movie is (Avatar) with 2.8 billion Dollar. which release in 2009 and its genre is (Action/Adventure/Fantasy/Science Fiction) and got rate (7.1/10).\n",
    "\n",
    "5- The lowest revenue movie is (Wild Card) with  Zerro Dollar. which release in 2015 and its genre is (Thriller/Crime/Drama) and got rate (5.3/10).\n",
    "\n",
    "6- The total average rating is (5.975/10) and there is 5810 movies which they are rating over the average rating and 5055 movies are below.\n",
    "\n",
    "7- The director (Christopher Nolan) has the highest average rate (7.47/10) and most profit (3.1 Billion Dollar) of his movies and he is the popularitiest comparing with the directors Quentin Tarantino who has average rate (7.35/10), profit (1.3 Billion Dollar) and Martin scorsese who has average rate (6.96/10), profit (1.2 Billion Dollar). But Martin Scorsese directed movies more than Nolan and Tarantino, he directed almost 29 movies, Nolan 10 and Tarantino 11, so because Scorsese directed many movies that affected his Average Rate and profit.\n",
    "\n",
    "8- By genres i found the highest average rate, revenue and popularity, The highest three genres of Average rate is \n",
    "( War(6.48/10), Drama(6.32/10) and Romance(5.92/10) ), highest revenue is (Comedy(24.8B), Drama(20.9B) and Horror(3.7B)) but there are mistakes in this dataset so some revenue equals zero. and the popularitiest by genre is (War(1.05), Adventure(0.65) and Action(0.592)). in the end i noticed that the genre (War) is the best for people to enjoy watching and for the productions company because it can make good revenue and profit.\n"
   ]
  },
  {
   "cell_type": "markdown",
   "metadata": {},
   "source": [
    "### Limitation:\n",
    "1- The dataset is untill 2015 so there are 5 years not included there and it affects for who wants to deep analize.\n",
    "\n",
    "2- I dropped some of columns (imdb_id, homepage, tagline and overview), because i do not need it in my analizing.\n",
    "\n",
    "3- Some Zero's values so it can be full accuracy."
   ]
  }
 ],
 "metadata": {
  "kernelspec": {
   "display_name": "Python 3",
   "language": "python",
   "name": "python3"
  },
  "language_info": {
   "codemirror_mode": {
    "name": "ipython",
    "version": 3
   },
   "file_extension": ".py",
   "mimetype": "text/x-python",
   "name": "python",
   "nbconvert_exporter": "python",
   "pygments_lexer": "ipython3",
   "version": "3.7.6"
  }
 },
 "nbformat": 4,
 "nbformat_minor": 2
}
